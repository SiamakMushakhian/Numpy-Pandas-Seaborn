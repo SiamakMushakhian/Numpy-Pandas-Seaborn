{
 "cells": [
  {
   "cell_type": "markdown",
   "id": "cf9f2d1a",
   "metadata": {},
   "source": [
    "# Numpy\n",
    "\n",
    "**Numpy** is the shorting for **numerical python**."
   ]
  },
  {
   "cell_type": "markdown",
   "id": "7b6f4b07",
   "metadata": {},
   "source": [
    "## 1 What Is NumPy Arrays (Ndarrays)\n",
    "\n",
    "- **Numpy array** is an important data structure for data science.\n",
    "- **Array** is useful for **fast** and **efficient** numerical operations.\n",
    "- **Numpy array** is **faster** than **built-in python** data structures.\n",
    "- **Ndarray** is a common data structure for data analysis libraries and for machine learnings."
   ]
  },
  {
   "cell_type": "code",
   "execution_count": 1,
   "id": "c329e195",
   "metadata": {},
   "outputs": [
    {
     "name": "stdout",
     "output_type": "stream",
     "text": [
      "10.7 µs ± 359 ns per loop (mean ± std. dev. of 7 runs, 100000 loops each)\n"
     ]
    }
   ],
   "source": [
    "%timeit list(range(1000))"
   ]
  },
  {
   "cell_type": "code",
   "execution_count": 2,
   "id": "b5733ebb",
   "metadata": {},
   "outputs": [
    {
     "name": "stdout",
     "output_type": "stream",
     "text": [
      "1.32 µs ± 21.5 ns per loop (mean ± std. dev. of 7 runs, 1000000 loops each)\n"
     ]
    }
   ],
   "source": [
    "import numpy as np\n",
    "%timeit np.arange(1000)"
   ]
  },
  {
   "cell_type": "code",
   "execution_count": 3,
   "id": "a2f1f462",
   "metadata": {},
   "outputs": [
    {
     "data": {
      "text/plain": [
       "numpy.ndarray"
      ]
     },
     "execution_count": 3,
     "metadata": {},
     "output_type": "execute_result"
    }
   ],
   "source": [
    "type(np.arange(1000))"
   ]
  },
  {
   "cell_type": "markdown",
   "id": "baac78a7",
   "metadata": {},
   "source": [
    "## 2 Create NumPy Arrays (Ndarrays)"
   ]
  },
  {
   "cell_type": "code",
   "execution_count": 4,
   "id": "a37ae531",
   "metadata": {},
   "outputs": [
    {
     "data": {
      "text/plain": [
       "array([[ 0.60925403, -1.62386875,  0.30580256],\n",
       "       [-0.93854021, -1.25081474, -0.97619925]])"
      ]
     },
     "execution_count": 4,
     "metadata": {},
     "output_type": "execute_result"
    }
   ],
   "source": [
    "a = np.random.randn(2, 3)\n",
    "a"
   ]
  },
  {
   "cell_type": "markdown",
   "id": "774911b9",
   "metadata": {},
   "source": [
    "**ndim**: To check the **dimension** of the **array**"
   ]
  },
  {
   "cell_type": "code",
   "execution_count": 5,
   "id": "f1fcb7f8",
   "metadata": {},
   "outputs": [
    {
     "data": {
      "text/plain": [
       "2"
      ]
     },
     "execution_count": 5,
     "metadata": {},
     "output_type": "execute_result"
    }
   ],
   "source": [
    "a.ndim"
   ]
  },
  {
   "cell_type": "markdown",
   "id": "eeced103",
   "metadata": {},
   "source": [
    "**shape**: To check the **shape** of the **array**"
   ]
  },
  {
   "cell_type": "code",
   "execution_count": 6,
   "id": "790c8a88",
   "metadata": {},
   "outputs": [
    {
     "data": {
      "text/plain": [
       "(2, 3)"
      ]
     },
     "execution_count": 6,
     "metadata": {},
     "output_type": "execute_result"
    }
   ],
   "source": [
    "a.shape"
   ]
  },
  {
   "cell_type": "markdown",
   "id": "a52aeffa",
   "metadata": {},
   "source": [
    "**dtype**: To check the **type** of the **array**"
   ]
  },
  {
   "cell_type": "code",
   "execution_count": 7,
   "id": "365de7b6",
   "metadata": {},
   "outputs": [
    {
     "data": {
      "text/plain": [
       "dtype('float64')"
      ]
     },
     "execution_count": 7,
     "metadata": {},
     "output_type": "execute_result"
    }
   ],
   "source": [
    "a.dtype"
   ]
  },
  {
   "cell_type": "markdown",
   "id": "4682e418",
   "metadata": {},
   "source": [
    "**np.array()**: To **convert** a **list** into **numpy array** "
   ]
  },
  {
   "cell_type": "code",
   "execution_count": 8,
   "id": "f47253e7",
   "metadata": {},
   "outputs": [
    {
     "data": {
      "text/plain": [
       "array([1, 2, 3, 4])"
      ]
     },
     "execution_count": 8,
     "metadata": {},
     "output_type": "execute_result"
    }
   ],
   "source": [
    "list1 = [1, 2, 3, 4]\n",
    "a = np.array(list1)\n",
    "a"
   ]
  },
  {
   "cell_type": "code",
   "execution_count": 12,
   "id": "72ad9d06",
   "metadata": {},
   "outputs": [
    {
     "data": {
      "text/plain": [
       "1"
      ]
     },
     "execution_count": 12,
     "metadata": {},
     "output_type": "execute_result"
    }
   ],
   "source": [
    "a.ndim"
   ]
  },
  {
   "cell_type": "code",
   "execution_count": 13,
   "id": "03a58ad3",
   "metadata": {},
   "outputs": [
    {
     "data": {
      "text/plain": [
       "(4,)"
      ]
     },
     "execution_count": 13,
     "metadata": {},
     "output_type": "execute_result"
    }
   ],
   "source": [
    "a.shape"
   ]
  },
  {
   "cell_type": "markdown",
   "id": "09e4f1cb",
   "metadata": {},
   "source": [
    "**zeros()**: To create a **numpy array** with certain size filled with **zeros**"
   ]
  },
  {
   "cell_type": "code",
   "execution_count": 14,
   "id": "9bd56a3b",
   "metadata": {},
   "outputs": [
    {
     "data": {
      "text/plain": [
       "array([0., 0., 0., 0., 0., 0., 0., 0., 0., 0.])"
      ]
     },
     "execution_count": 14,
     "metadata": {},
     "output_type": "execute_result"
    }
   ],
   "source": [
    "a = np.zeros(10)\n",
    "a"
   ]
  },
  {
   "cell_type": "markdown",
   "id": "7496d981",
   "metadata": {},
   "source": [
    "**ones()**: To create a **numpy array** with certain size filled with **ones**\n",
    "\n",
    "**Note**: To create a **multi-dimensional numpy array** filled with **zeros (ones)**, you need to pass the **dimension** as a **tuple**"
   ]
  },
  {
   "cell_type": "code",
   "execution_count": 15,
   "id": "2068caca",
   "metadata": {},
   "outputs": [
    {
     "data": {
      "text/plain": [
       "array([[1., 1., 1.],\n",
       "       [1., 1., 1.]])"
      ]
     },
     "execution_count": 15,
     "metadata": {},
     "output_type": "execute_result"
    }
   ],
   "source": [
    "a = np.ones((2, 3))\n",
    "a"
   ]
  },
  {
   "cell_type": "markdown",
   "id": "2cffd203",
   "metadata": {},
   "source": [
    "# 3 Data Types for Ndarrays"
   ]
  },
  {
   "cell_type": "markdown",
   "id": "64919d90",
   "metadata": {},
   "source": [
    "Common numpy data types are:\n",
    "- Integers\n",
    "- Floating points\n",
    "- Strings\n",
    "- Booleans"
   ]
  },
  {
   "cell_type": "code",
   "execution_count": 16,
   "id": "896fc425",
   "metadata": {},
   "outputs": [
    {
     "data": {
      "text/plain": [
       "array([1, 2, 3, 4])"
      ]
     },
     "execution_count": 16,
     "metadata": {},
     "output_type": "execute_result"
    }
   ],
   "source": [
    "list1 = [1, 2, 3, 4]\n",
    "a = np.array(list1)\n",
    "a"
   ]
  },
  {
   "cell_type": "code",
   "execution_count": 17,
   "id": "94f957d9",
   "metadata": {},
   "outputs": [
    {
     "data": {
      "text/plain": [
       "dtype('int64')"
      ]
     },
     "execution_count": 17,
     "metadata": {},
     "output_type": "execute_result"
    }
   ],
   "source": [
    "a.dtype"
   ]
  },
  {
   "cell_type": "markdown",
   "id": "ba444682",
   "metadata": {},
   "source": [
    "**np.array(, dtype)**: To **specify** the **data type** of an **existing array** while converting to **numpy array**"
   ]
  },
  {
   "cell_type": "code",
   "execution_count": 18,
   "id": "9a93394c",
   "metadata": {},
   "outputs": [
    {
     "data": {
      "text/plain": [
       "array([1, 2, 3, 4], dtype=int16)"
      ]
     },
     "execution_count": 18,
     "metadata": {},
     "output_type": "execute_result"
    }
   ],
   "source": [
    "a = np.array(list1, dtype='int16')\n",
    "a"
   ]
  },
  {
   "cell_type": "code",
   "execution_count": 19,
   "id": "82555657",
   "metadata": {},
   "outputs": [
    {
     "data": {
      "text/plain": [
       "dtype('int16')"
      ]
     },
     "execution_count": 19,
     "metadata": {},
     "output_type": "execute_result"
    }
   ],
   "source": [
    "a.dtype"
   ]
  },
  {
   "cell_type": "markdown",
   "id": "74f40083",
   "metadata": {},
   "source": [
    "**astype(dtype)**: To **change** the **data type** of an **existing numpy array**"
   ]
  },
  {
   "cell_type": "code",
   "execution_count": 20,
   "id": "1b1f9aed",
   "metadata": {},
   "outputs": [
    {
     "data": {
      "text/plain": [
       "array([1., 2., 3., 4.])"
      ]
     },
     "execution_count": 20,
     "metadata": {},
     "output_type": "execute_result"
    }
   ],
   "source": [
    "b = a.astype(np.float64)\n",
    "b"
   ]
  },
  {
   "cell_type": "code",
   "execution_count": 21,
   "id": "ce573645",
   "metadata": {},
   "outputs": [
    {
     "data": {
      "text/plain": [
       "dtype('float64')"
      ]
     },
     "execution_count": 21,
     "metadata": {},
     "output_type": "execute_result"
    }
   ],
   "source": [
    "b.dtype"
   ]
  },
  {
   "cell_type": "markdown",
   "id": "cf8e3ebf",
   "metadata": {},
   "source": [
    "https://www.tutorialspoint.com/numpy/numpy_data_types.htm"
   ]
  },
  {
   "cell_type": "code",
   "execution_count": 22,
   "id": "6b4ca7d0",
   "metadata": {},
   "outputs": [
    {
     "data": {
      "text/plain": [
       "dtype('<U2')"
      ]
     },
     "execution_count": 22,
     "metadata": {},
     "output_type": "execute_result"
    }
   ],
   "source": [
    "list2 = ['19','24','34','14','56']\n",
    "a = np.array(list2)\n",
    "a.dtype"
   ]
  },
  {
   "cell_type": "markdown",
   "id": "c8c71ad5",
   "metadata": {},
   "source": [
    "If we try an arithmetic operation with this array we get an error, because it is not numerical"
   ]
  },
  {
   "cell_type": "code",
   "execution_count": 23,
   "id": "487f35ed",
   "metadata": {},
   "outputs": [
    {
     "ename": "UFuncTypeError",
     "evalue": "ufunc 'subtract' did not contain a loop with signature matching types (dtype('<U2'), dtype('int64')) -> None",
     "output_type": "error",
     "traceback": [
      "\u001b[0;31m---------------------------------------------------------------------------\u001b[0m",
      "\u001b[0;31mUFuncTypeError\u001b[0m                            Traceback (most recent call last)",
      "\u001b[0;32m/tmp/ipykernel_891/2737766058.py\u001b[0m in \u001b[0;36m<module>\u001b[0;34m\u001b[0m\n\u001b[0;32m----> 1\u001b[0;31m \u001b[0ma\u001b[0m \u001b[0;34m-\u001b[0m \u001b[0;36m5\u001b[0m\u001b[0;34m\u001b[0m\u001b[0;34m\u001b[0m\u001b[0m\n\u001b[0m",
      "\u001b[0;31mUFuncTypeError\u001b[0m: ufunc 'subtract' did not contain a loop with signature matching types (dtype('<U2'), dtype('int64')) -> None"
     ]
    }
   ],
   "source": [
    "a - 5"
   ]
  },
  {
   "cell_type": "code",
   "execution_count": 24,
   "id": "33ecded3",
   "metadata": {},
   "outputs": [
    {
     "data": {
      "text/plain": [
       "array([14, 19, 29,  9, 51], dtype=int16)"
      ]
     },
     "execution_count": 24,
     "metadata": {},
     "output_type": "execute_result"
    }
   ],
   "source": [
    "a = a.astype(np.int16)\n",
    "a - 5"
   ]
  },
  {
   "cell_type": "code",
   "execution_count": 25,
   "id": "15dfffed",
   "metadata": {},
   "outputs": [
    {
     "data": {
      "text/plain": [
       "array([14, 19, 29,  9, 51], dtype=int16)"
      ]
     },
     "execution_count": 25,
     "metadata": {},
     "output_type": "execute_result"
    }
   ],
   "source": [
    "a = np.array(list2, dtype='int16')\n",
    "a - 5"
   ]
  },
  {
   "cell_type": "code",
   "execution_count": 26,
   "id": "c6a133dd",
   "metadata": {},
   "outputs": [
    {
     "data": {
      "text/plain": [
       "array([14, 19, 29,  9, 51], dtype=int16)"
      ]
     },
     "execution_count": 26,
     "metadata": {},
     "output_type": "execute_result"
    }
   ],
   "source": [
    "a = np.array(list2, dtype=np.int16)\n",
    "a - 5"
   ]
  },
  {
   "cell_type": "markdown",
   "id": "b6b476ea",
   "metadata": {},
   "source": [
    "## 4 Arithmetic with NumPy Arrays\n",
    "\n",
    "**Numpy arrays** are **fast** and **efficient** in numerical computations (**vectorization**, without any loop)."
   ]
  },
  {
   "cell_type": "code",
   "execution_count": 27,
   "id": "8065a3b3",
   "metadata": {},
   "outputs": [
    {
     "data": {
      "text/plain": [
       "array([[1, 2, 3],\n",
       "       [4, 5, 6]])"
      ]
     },
     "execution_count": 27,
     "metadata": {},
     "output_type": "execute_result"
    }
   ],
   "source": [
    "a = np.array([[1,2,3], [4,5,6]])\n",
    "a"
   ]
  },
  {
   "cell_type": "markdown",
   "id": "adff2cef",
   "metadata": {},
   "source": [
    "We can do **element-wise** operations of this array by itself"
   ]
  },
  {
   "cell_type": "code",
   "execution_count": 28,
   "id": "24c9a490",
   "metadata": {},
   "outputs": [
    {
     "data": {
      "text/plain": [
       "array([[ 1,  4,  9],\n",
       "       [16, 25, 36]])"
      ]
     },
     "execution_count": 28,
     "metadata": {},
     "output_type": "execute_result"
    }
   ],
   "source": [
    "a * a"
   ]
  },
  {
   "cell_type": "code",
   "execution_count": 29,
   "id": "6627663f",
   "metadata": {},
   "outputs": [
    {
     "data": {
      "text/plain": [
       "array([[0, 0, 0],\n",
       "       [0, 0, 0]])"
      ]
     },
     "execution_count": 29,
     "metadata": {},
     "output_type": "execute_result"
    }
   ],
   "source": [
    "a - a"
   ]
  },
  {
   "cell_type": "markdown",
   "id": "5a62b531",
   "metadata": {},
   "source": [
    "We can do the operations with a **scalar** because of **broadcasting** feature of numpy."
   ]
  },
  {
   "cell_type": "code",
   "execution_count": 30,
   "id": "4ca69785",
   "metadata": {},
   "outputs": [
    {
     "data": {
      "text/plain": [
       "array([[-3, -2, -1],\n",
       "       [ 0,  1,  2]])"
      ]
     },
     "execution_count": 30,
     "metadata": {},
     "output_type": "execute_result"
    }
   ],
   "source": [
    "a - 4"
   ]
  },
  {
   "cell_type": "code",
   "execution_count": 31,
   "id": "4c5b2bf0",
   "metadata": {},
   "outputs": [
    {
     "data": {
      "text/plain": [
       "array([[False, False, False],\n",
       "       [False,  True,  True]])"
      ]
     },
     "execution_count": 31,
     "metadata": {},
     "output_type": "execute_result"
    }
   ],
   "source": [
    "a > 4"
   ]
  },
  {
   "cell_type": "markdown",
   "id": "17aecf36",
   "metadata": {},
   "source": [
    "## 5 Indexing and Slicing\n",
    "\n",
    "It is used to **select a subset** of dataset.\n",
    "\n",
    "### Integer Indexing"
   ]
  },
  {
   "cell_type": "code",
   "execution_count": 35,
   "id": "fb1f7543",
   "metadata": {},
   "outputs": [
    {
     "data": {
      "text/plain": [
       "array([ 2,  4,  6,  8, 10, 12, 14, 16, 18])"
      ]
     },
     "execution_count": 35,
     "metadata": {},
     "output_type": "execute_result"
    }
   ],
   "source": [
    "a = np.arange(2, 20, 2)\n",
    "a"
   ]
  },
  {
   "cell_type": "code",
   "execution_count": 36,
   "id": "e8c741da",
   "metadata": {},
   "outputs": [
    {
     "data": {
      "text/plain": [
       "array([ 6,  8, 10, 12])"
      ]
     },
     "execution_count": 36,
     "metadata": {},
     "output_type": "execute_result"
    }
   ],
   "source": [
    "a[2:6]"
   ]
  },
  {
   "cell_type": "markdown",
   "id": "d64826fd",
   "metadata": {},
   "source": [
    " **Slice** is a **mirror**, **not a copy**"
   ]
  },
  {
   "cell_type": "code",
   "execution_count": 37,
   "id": "72d68995",
   "metadata": {},
   "outputs": [
    {
     "data": {
      "text/plain": [
       "array([2, 4, 6, 8])"
      ]
     },
     "execution_count": 37,
     "metadata": {},
     "output_type": "execute_result"
    }
   ],
   "source": [
    "b = a[:4]\n",
    "b"
   ]
  },
  {
   "cell_type": "code",
   "execution_count": 38,
   "id": "c05851b5",
   "metadata": {},
   "outputs": [
    {
     "data": {
      "text/plain": [
       "array([ 2,  4,  6,  8, 10, 12, 14, 16, 18])"
      ]
     },
     "execution_count": 38,
     "metadata": {},
     "output_type": "execute_result"
    }
   ],
   "source": [
    "a"
   ]
  },
  {
   "cell_type": "code",
   "execution_count": 39,
   "id": "5607624a",
   "metadata": {},
   "outputs": [
    {
     "data": {
      "text/plain": [
       "array([[ 1,  2,  3],\n",
       "       [ 4,  5,  6],\n",
       "       [ 7,  8,  9],\n",
       "       [10, 11, 12]])"
      ]
     },
     "execution_count": 39,
     "metadata": {},
     "output_type": "execute_result"
    }
   ],
   "source": [
    "a = np.array([[1,2,3], [4,5,6],[7,8,9],[10,11,12]])\n",
    "a"
   ]
  },
  {
   "cell_type": "code",
   "execution_count": 40,
   "id": "50d57014",
   "metadata": {},
   "outputs": [
    {
     "data": {
      "text/plain": [
       "array([[1, 2, 3],\n",
       "       [4, 5, 6]])"
      ]
     },
     "execution_count": 40,
     "metadata": {},
     "output_type": "execute_result"
    }
   ],
   "source": [
    "a[0:2]"
   ]
  },
  {
   "cell_type": "code",
   "execution_count": 41,
   "id": "12830d05",
   "metadata": {},
   "outputs": [
    {
     "data": {
      "text/plain": [
       "array([ 2,  5,  8, 11])"
      ]
     },
     "execution_count": 41,
     "metadata": {},
     "output_type": "execute_result"
    }
   ],
   "source": [
    "a[:,1]"
   ]
  },
  {
   "cell_type": "markdown",
   "id": "f03d5640",
   "metadata": {},
   "source": [
    "### Boolean Indexing\n",
    "\n",
    "It is a **slicing** method based on the **boolean expersions** which is used to **filter the data**."
   ]
  },
  {
   "cell_type": "code",
   "execution_count": 42,
   "id": "ba2cea85",
   "metadata": {},
   "outputs": [],
   "source": [
    "a = np.array(['a', 'b', 'c', 'a', 'd', 'b', 'a'])\n",
    "b = np.array([22, 45, 22, 61, 19, 23, 31])"
   ]
  },
  {
   "cell_type": "code",
   "execution_count": 43,
   "id": "2901d931",
   "metadata": {},
   "outputs": [
    {
     "data": {
      "text/plain": [
       "array([22, 61, 31])"
      ]
     },
     "execution_count": 43,
     "metadata": {},
     "output_type": "execute_result"
    }
   ],
   "source": [
    "b[a == 'a']"
   ]
  },
  {
   "cell_type": "code",
   "execution_count": 44,
   "id": "71671cb1",
   "metadata": {},
   "outputs": [
    {
     "data": {
      "text/plain": [
       "array([ True, False, False,  True, False, False,  True])"
      ]
     },
     "execution_count": 44,
     "metadata": {},
     "output_type": "execute_result"
    }
   ],
   "source": [
    "a == 'a'"
   ]
  },
  {
   "cell_type": "code",
   "execution_count": 45,
   "id": "83b92a38",
   "metadata": {},
   "outputs": [
    {
     "data": {
      "text/plain": [
       "array([[ 2.1317933 ,  0.37312637],\n",
       "       [-0.07066909, -0.38675159],\n",
       "       [ 0.1150885 ,  0.9055697 ],\n",
       "       [ 0.71888439, -0.70026329],\n",
       "       [ 0.31624182, -0.23322394],\n",
       "       [-1.08345467, -0.70352504],\n",
       "       [-0.10996501, -0.87638096]])"
      ]
     },
     "execution_count": 45,
     "metadata": {},
     "output_type": "execute_result"
    }
   ],
   "source": [
    "c = np.random.randn(7,2)\n",
    "c"
   ]
  },
  {
   "cell_type": "code",
   "execution_count": 46,
   "id": "0d5c9265",
   "metadata": {},
   "outputs": [
    {
     "data": {
      "text/plain": [
       "array([[ 2.1317933 ,  0.37312637],\n",
       "       [ 0.71888439, -0.70026329],\n",
       "       [-0.10996501, -0.87638096]])"
      ]
     },
     "execution_count": 46,
     "metadata": {},
     "output_type": "execute_result"
    }
   ],
   "source": [
    "c[a == 'a']"
   ]
  },
  {
   "cell_type": "code",
   "execution_count": 47,
   "id": "3192b80e",
   "metadata": {},
   "outputs": [
    {
     "data": {
      "text/plain": [
       "array([[ 1, 23],\n",
       "       [ 4, 43],\n",
       "       [ 1, 17],\n",
       "       [ 3, 53],\n",
       "       [ 5, 23],\n",
       "       [ 1, 42],\n",
       "       [ 3, 15],\n",
       "       [ 1, 34],\n",
       "       [ 4, 41],\n",
       "       [ 2, 23]])"
      ]
     },
     "execution_count": 47,
     "metadata": {},
     "output_type": "execute_result"
    }
   ],
   "source": [
    "d = np.array([[1,23], [4,43], [1, 17],[3,53], [5,23], [1, 42],[3,15], [1,34], [4, 41],[2, 23]])\n",
    "d"
   ]
  },
  {
   "cell_type": "code",
   "execution_count": 48,
   "id": "cca5edd1",
   "metadata": {},
   "outputs": [
    {
     "data": {
      "text/plain": [
       "array([[ 1, 23],\n",
       "       [ 1, 17],\n",
       "       [ 1, 42],\n",
       "       [ 1, 34]])"
      ]
     },
     "execution_count": 48,
     "metadata": {},
     "output_type": "execute_result"
    }
   ],
   "source": [
    "d[d[:,0] == 1]"
   ]
  },
  {
   "cell_type": "markdown",
   "id": "042a283f",
   "metadata": {},
   "source": [
    "### Facny Indexing\n",
    "\n",
    "It uses the **numeric indices** to access and slice **multiple elements** of an array."
   ]
  },
  {
   "cell_type": "code",
   "execution_count": 49,
   "id": "568a0c96",
   "metadata": {},
   "outputs": [
    {
     "data": {
      "text/plain": [
       "array([27, 39, 43, 44,  1, 45, 24, 37, 41, 43])"
      ]
     },
     "execution_count": 49,
     "metadata": {},
     "output_type": "execute_result"
    }
   ],
   "source": [
    "a = np.random.randint(50, size= 10)\n",
    "a"
   ]
  },
  {
   "cell_type": "code",
   "execution_count": 50,
   "id": "5e4bb629",
   "metadata": {},
   "outputs": [
    {
     "data": {
      "text/plain": [
       "array([39, 44, 45, 37])"
      ]
     },
     "execution_count": 50,
     "metadata": {},
     "output_type": "execute_result"
    }
   ],
   "source": [
    "ind = [1,3,5,7]\n",
    "a[ind]"
   ]
  },
  {
   "cell_type": "code",
   "execution_count": 51,
   "id": "2cb5f8e7",
   "metadata": {},
   "outputs": [
    {
     "data": {
      "text/plain": [
       "array([[39, 44],\n",
       "       [45, 37]])"
      ]
     },
     "execution_count": 51,
     "metadata": {},
     "output_type": "execute_result"
    }
   ],
   "source": [
    "ind2 = np.array([[1,3], [5,7]])\n",
    "a[ind2]"
   ]
  },
  {
   "cell_type": "code",
   "execution_count": 52,
   "id": "48a4ad54",
   "metadata": {},
   "outputs": [
    {
     "data": {
      "text/plain": [
       "array([[ 6, 71, 11, 45],\n",
       "       [42, 76,  4, 14],\n",
       "       [39, 92, 92, 67]])"
      ]
     },
     "execution_count": 52,
     "metadata": {},
     "output_type": "execute_result"
    }
   ],
   "source": [
    "a = np.random.randint(100, size=(3,4))\n",
    "a"
   ]
  },
  {
   "cell_type": "markdown",
   "id": "6305efe3",
   "metadata": {},
   "source": [
    "To slice two-dimensional array, We create an index that contains two sets, one for rows and one for columns:"
   ]
  },
  {
   "cell_type": "code",
   "execution_count": 53,
   "id": "4451eca9",
   "metadata": {},
   "outputs": [
    {
     "data": {
      "text/plain": [
       "array([45,  4, 67])"
      ]
     },
     "execution_count": 53,
     "metadata": {},
     "output_type": "execute_result"
    }
   ],
   "source": [
    "ind = ((0,1,2),(3,2,3))\n",
    "a[ind]"
   ]
  },
  {
   "cell_type": "markdown",
   "id": "a8f4b91d",
   "metadata": {},
   "source": [
    "We can also create two separate indexes, one for rows and one for columns:"
   ]
  },
  {
   "cell_type": "code",
   "execution_count": 54,
   "id": "1e0f07c8",
   "metadata": {},
   "outputs": [
    {
     "data": {
      "text/plain": [
       "array([45,  4, 67])"
      ]
     },
     "execution_count": 54,
     "metadata": {},
     "output_type": "execute_result"
    }
   ],
   "source": [
    "row = [0,1,2]\n",
    "column = [3,2,3]\n",
    "a[row, column]"
   ]
  },
  {
   "cell_type": "markdown",
   "id": "6fa58715",
   "metadata": {},
   "source": [
    "## 6 Transposing Arrays\n",
    "\n",
    "**transpose()** or **T**: To **transpose** an array"
   ]
  },
  {
   "cell_type": "code",
   "execution_count": 79,
   "id": "37bce719",
   "metadata": {},
   "outputs": [
    {
     "data": {
      "text/plain": [
       "array([[ 5, 13, 17,  8],\n",
       "       [16, 10, 18, 13],\n",
       "       [ 2,  1,  6, 15]])"
      ]
     },
     "execution_count": 79,
     "metadata": {},
     "output_type": "execute_result"
    }
   ],
   "source": [
    "a = np.random.randint(20, size=(3,4))\n",
    "a"
   ]
  },
  {
   "cell_type": "code",
   "execution_count": 80,
   "id": "e34aff6b",
   "metadata": {},
   "outputs": [
    {
     "data": {
      "text/plain": [
       "array([[ 5, 16,  2],\n",
       "       [13, 10,  1],\n",
       "       [17, 18,  6],\n",
       "       [ 8, 13, 15]])"
      ]
     },
     "execution_count": 80,
     "metadata": {},
     "output_type": "execute_result"
    }
   ],
   "source": [
    "a.transpose()"
   ]
  },
  {
   "cell_type": "code",
   "execution_count": 81,
   "id": "067cb2d8",
   "metadata": {},
   "outputs": [
    {
     "data": {
      "text/plain": [
       "array([[ 5, 16,  2],\n",
       "       [13, 10,  1],\n",
       "       [17, 18,  6],\n",
       "       [ 8, 13, 15]])"
      ]
     },
     "execution_count": 81,
     "metadata": {},
     "output_type": "execute_result"
    }
   ],
   "source": [
    "a.T"
   ]
  },
  {
   "cell_type": "markdown",
   "id": "ae70ab39",
   "metadata": {},
   "source": [
    "If we try to **transpose** a **one dimensional** array, it will be the **same**:"
   ]
  },
  {
   "cell_type": "code",
   "execution_count": 84,
   "id": "e68ac828",
   "metadata": {},
   "outputs": [
    {
     "data": {
      "text/plain": [
       "(6,)"
      ]
     },
     "execution_count": 84,
     "metadata": {},
     "output_type": "execute_result"
    }
   ],
   "source": [
    "a = np.array([1, 2, 3, 4, 5, 6])\n",
    "a.shape"
   ]
  },
  {
   "cell_type": "code",
   "execution_count": 85,
   "id": "ed51ea56",
   "metadata": {},
   "outputs": [
    {
     "data": {
      "text/plain": [
       "(6,)"
      ]
     },
     "execution_count": 85,
     "metadata": {},
     "output_type": "execute_result"
    }
   ],
   "source": [
    "b = a.T\n",
    "b.shape"
   ]
  },
  {
   "cell_type": "markdown",
   "id": "c1e8777a",
   "metadata": {},
   "source": [
    "## 7 Mathematical and Statistical Methods"
   ]
  },
  {
   "cell_type": "code",
   "execution_count": 100,
   "id": "f612524f",
   "metadata": {},
   "outputs": [
    {
     "data": {
      "text/plain": [
       "array([[-0.85754464, -0.43697686,  1.23789817,  0.06886745,  0.07679941],\n",
       "       [-0.27741805,  0.43769721, -1.0847617 , -0.52133629,  0.65700932],\n",
       "       [ 0.66080653, -0.66790741, -0.87706495, -0.52445029,  0.56027559],\n",
       "       [ 0.0138236 ,  0.77764001, -0.89684194, -0.95367342, -0.50486524]])"
      ]
     },
     "execution_count": 100,
     "metadata": {},
     "output_type": "execute_result"
    }
   ],
   "source": [
    "a = np.random.randn(4, 5)\n",
    "a"
   ]
  },
  {
   "cell_type": "code",
   "execution_count": 103,
   "id": "46fbfd10",
   "metadata": {},
   "outputs": [
    {
     "data": {
      "text/plain": [
       "-1.0847616974790235"
      ]
     },
     "execution_count": 103,
     "metadata": {},
     "output_type": "execute_result"
    }
   ],
   "source": [
    "np.min(a)"
   ]
  },
  {
   "cell_type": "code",
   "execution_count": 104,
   "id": "183c2387",
   "metadata": {},
   "outputs": [
    {
     "data": {
      "text/plain": [
       "-1.0847616974790235"
      ]
     },
     "execution_count": 104,
     "metadata": {},
     "output_type": "execute_result"
    }
   ],
   "source": [
    "a.min()"
   ]
  },
  {
   "cell_type": "code",
   "execution_count": 105,
   "id": "654df58f",
   "metadata": {},
   "outputs": [
    {
     "data": {
      "text/plain": [
       "array([-0.85754464, -0.66790741, -1.0847617 , -0.95367342, -0.50486524])"
      ]
     },
     "execution_count": 105,
     "metadata": {},
     "output_type": "execute_result"
    }
   ],
   "source": [
    "a.min(axis=0) # min across rows"
   ]
  },
  {
   "cell_type": "code",
   "execution_count": 106,
   "id": "67fc9a6f",
   "metadata": {},
   "outputs": [
    {
     "data": {
      "text/plain": [
       "(5,)"
      ]
     },
     "execution_count": 106,
     "metadata": {},
     "output_type": "execute_result"
    }
   ],
   "source": [
    "a.min(axis=0).shape"
   ]
  },
  {
   "cell_type": "code",
   "execution_count": 107,
   "id": "6bc9dd70",
   "metadata": {},
   "outputs": [
    {
     "data": {
      "text/plain": [
       "array([-0.85754464, -1.0847617 , -0.87706495, -0.95367342])"
      ]
     },
     "execution_count": 107,
     "metadata": {},
     "output_type": "execute_result"
    }
   ],
   "source": [
    "a.min(axis=1) # min across columns"
   ]
  },
  {
   "cell_type": "code",
   "execution_count": 108,
   "id": "a265ae7c",
   "metadata": {},
   "outputs": [
    {
     "data": {
      "text/plain": [
       "(4,)"
      ]
     },
     "execution_count": 108,
     "metadata": {},
     "output_type": "execute_result"
    }
   ],
   "source": [
    "a.min(axis=1).shape"
   ]
  },
  {
   "cell_type": "code",
   "execution_count": 101,
   "id": "3a70b405",
   "metadata": {},
   "outputs": [
    {
     "data": {
      "text/plain": [
       "7"
      ]
     },
     "execution_count": 101,
     "metadata": {},
     "output_type": "execute_result"
    }
   ],
   "source": [
    "a.argmin() # returns the index of the minumum value"
   ]
  },
  {
   "cell_type": "code",
   "execution_count": 102,
   "id": "2af7d2e7",
   "metadata": {},
   "outputs": [
    {
     "data": {
      "text/plain": [
       "array([0, 2, 1, 3, 3])"
      ]
     },
     "execution_count": 102,
     "metadata": {},
     "output_type": "execute_result"
    }
   ],
   "source": [
    "a.argmin(axis=0)"
   ]
  },
  {
   "cell_type": "markdown",
   "id": "6b3df4d2",
   "metadata": {},
   "source": [
    "std, sum, cumsum, min, max, argmin, argmax"
   ]
  },
  {
   "cell_type": "markdown",
   "id": "c5f515ba",
   "metadata": {},
   "source": [
    "We can also use statistics for **boolean** values, in that case, **True** is considered **one** and **Fasle** as **zero**. It will be useful when dealing with **missing values** in large datasets."
   ]
  },
  {
   "cell_type": "code",
   "execution_count": 109,
   "id": "195644eb",
   "metadata": {},
   "outputs": [
    {
     "data": {
      "text/plain": [
       "3"
      ]
     },
     "execution_count": 109,
     "metadata": {},
     "output_type": "execute_result"
    }
   ],
   "source": [
    "a = np.array([True, False, False, True, True])\n",
    "a.sum()"
   ]
  },
  {
   "cell_type": "markdown",
   "id": "41f47f23",
   "metadata": {},
   "source": [
    "Two important functions when dealing with missing values:\n",
    "\n",
    "**any()**: It scans a **boolean array**, if **at least one** value is **True**, it will **return True**.\n",
    "\n",
    "**all()**: It scans a **boolean array**, if **all elements** are **True**, it will **return True**."
   ]
  },
  {
   "cell_type": "code",
   "execution_count": 110,
   "id": "952107ef",
   "metadata": {},
   "outputs": [
    {
     "data": {
      "text/plain": [
       "True"
      ]
     },
     "execution_count": 110,
     "metadata": {},
     "output_type": "execute_result"
    }
   ],
   "source": [
    "a.any()"
   ]
  },
  {
   "cell_type": "code",
   "execution_count": 111,
   "id": "4c5b58b2",
   "metadata": {},
   "outputs": [
    {
     "data": {
      "text/plain": [
       "False"
      ]
     },
     "execution_count": 111,
     "metadata": {},
     "output_type": "execute_result"
    }
   ],
   "source": [
    "a.all()"
   ]
  },
  {
   "cell_type": "markdown",
   "id": "8c719bd4",
   "metadata": {},
   "source": [
    "## 8 Sorting Arrays"
   ]
  },
  {
   "cell_type": "code",
   "execution_count": 119,
   "id": "d8ae515f",
   "metadata": {},
   "outputs": [
    {
     "data": {
      "text/plain": [
       "array([19, 16,  1, 19, 17])"
      ]
     },
     "execution_count": 119,
     "metadata": {},
     "output_type": "execute_result"
    }
   ],
   "source": [
    "a = np.random.randint(20, size=5)\n",
    "a"
   ]
  },
  {
   "cell_type": "code",
   "execution_count": 120,
   "id": "f188a1ff",
   "metadata": {},
   "outputs": [
    {
     "data": {
      "text/plain": [
       "array([ 1, 16, 17, 19, 19])"
      ]
     },
     "execution_count": 120,
     "metadata": {},
     "output_type": "execute_result"
    }
   ],
   "source": [
    "np.sort(a)"
   ]
  },
  {
   "cell_type": "code",
   "execution_count": 121,
   "id": "60ef51ad",
   "metadata": {},
   "outputs": [
    {
     "data": {
      "text/plain": [
       "array([19, 16,  1, 19, 17])"
      ]
     },
     "execution_count": 121,
     "metadata": {},
     "output_type": "execute_result"
    }
   ],
   "source": [
    "a"
   ]
  },
  {
   "cell_type": "markdown",
   "id": "30180f5c",
   "metadata": {},
   "source": [
    "**np.sort()**: It returns a **sorted copy** and the **original array** is **kept** as it is."
   ]
  },
  {
   "cell_type": "code",
   "execution_count": 123,
   "id": "adb95012",
   "metadata": {},
   "outputs": [
    {
     "data": {
      "text/plain": [
       "array([ 1, 16, 17, 19, 19])"
      ]
     },
     "execution_count": 123,
     "metadata": {},
     "output_type": "execute_result"
    }
   ],
   "source": [
    "a.sort()\n",
    "a"
   ]
  },
  {
   "cell_type": "markdown",
   "id": "1535b1e7",
   "metadata": {},
   "source": [
    "**sort()**: This functions **sorts** the array **in place** meaning that the **original array** has been **changed**.\n",
    "\n",
    "By **default**, the sorting will be in **ascending order** and there is **no option** for **descending order**. "
   ]
  },
  {
   "cell_type": "code",
   "execution_count": 124,
   "id": "9442ff77",
   "metadata": {},
   "outputs": [
    {
     "data": {
      "text/plain": [
       "array([19, 19, 17, 16,  1])"
      ]
     },
     "execution_count": 124,
     "metadata": {},
     "output_type": "execute_result"
    }
   ],
   "source": [
    "a[::-1]"
   ]
  },
  {
   "cell_type": "code",
   "execution_count": 125,
   "id": "bd352be7",
   "metadata": {},
   "outputs": [
    {
     "data": {
      "text/plain": [
       "array([[-0.32968467,  0.08336681, -1.16923173, -1.6153957 , -0.65685989],\n",
       "       [-2.19953949, -0.65206123, -1.0637823 ,  0.46164926, -0.54814368],\n",
       "       [-0.99866846,  0.42708698,  0.1061801 ,  0.87472977,  0.398864  ],\n",
       "       [ 1.37503529,  0.35103734, -2.64756562,  0.29747843, -0.06876133]])"
      ]
     },
     "execution_count": 125,
     "metadata": {},
     "output_type": "execute_result"
    }
   ],
   "source": [
    "a = np.random.randn(4,5)\n",
    "a"
   ]
  },
  {
   "cell_type": "code",
   "execution_count": 127,
   "id": "cdb8910a",
   "metadata": {},
   "outputs": [
    {
     "data": {
      "text/plain": [
       "array([[-2.19953949, -0.65206123, -2.64756562, -1.6153957 , -0.65685989],\n",
       "       [-0.99866846,  0.08336681, -1.16923173,  0.29747843, -0.54814368],\n",
       "       [-0.32968467,  0.35103734, -1.0637823 ,  0.46164926, -0.06876133],\n",
       "       [ 1.37503529,  0.42708698,  0.1061801 ,  0.87472977,  0.398864  ]])"
      ]
     },
     "execution_count": 127,
     "metadata": {},
     "output_type": "execute_result"
    }
   ],
   "source": [
    "a.sort(0)\n",
    "a"
   ]
  },
  {
   "cell_type": "code",
   "execution_count": 129,
   "id": "1f14b1cd",
   "metadata": {},
   "outputs": [
    {
     "data": {
      "text/plain": [
       "array([[-2.64756562, -2.19953949, -1.6153957 , -0.65685989, -0.65206123],\n",
       "       [-1.16923173, -0.99866846, -0.54814368,  0.08336681,  0.29747843],\n",
       "       [-1.0637823 , -0.32968467, -0.06876133,  0.35103734,  0.46164926],\n",
       "       [ 0.1061801 ,  0.398864  ,  0.42708698,  0.87472977,  1.37503529]])"
      ]
     },
     "execution_count": 129,
     "metadata": {},
     "output_type": "execute_result"
    }
   ],
   "source": [
    "a.sort(1)\n",
    "a"
   ]
  },
  {
   "cell_type": "markdown",
   "id": "b42f7ca7",
   "metadata": {},
   "source": [
    "**np.unique()**: To return a **sorted unique elements** meaning that **repeated elements** are **removed**\n",
    "\n",
    "It will be usefule when you have **duplicate entry** in your dataset."
   ]
  },
  {
   "cell_type": "code",
   "execution_count": 130,
   "id": "86968e41",
   "metadata": {},
   "outputs": [],
   "source": [
    "a = np.array(['Harry', 'Jake', 'Harry', 'George', 'Jake', 'Harry', 'James', 'Jake', 'Jake', 'Harry'])"
   ]
  },
  {
   "cell_type": "code",
   "execution_count": 131,
   "id": "8ba047a8",
   "metadata": {},
   "outputs": [
    {
     "data": {
      "text/plain": [
       "array(['George', 'Harry', 'Jake', 'James'], dtype='<U6')"
      ]
     },
     "execution_count": 131,
     "metadata": {},
     "output_type": "execute_result"
    }
   ],
   "source": [
    "np.unique(a)"
   ]
  },
  {
   "cell_type": "markdown",
   "id": "1fc9b43f",
   "metadata": {},
   "source": [
    "## 9 File Input and Output\n",
    "\n",
    "**Numpy** has two functions for **saving** and **loading array data**:\n",
    "- **np.save()** for saving numpy arrays. \n",
    "- **np.load()** for loading numpy arrays.\n",
    "\n",
    "Arrays are saved with the **file extension (.npy)**"
   ]
  },
  {
   "cell_type": "code",
   "execution_count": 132,
   "id": "14cc2f0e",
   "metadata": {},
   "outputs": [
    {
     "data": {
      "text/plain": [
       "array([0, 1, 2, 3, 4])"
      ]
     },
     "execution_count": 132,
     "metadata": {},
     "output_type": "execute_result"
    }
   ],
   "source": [
    "a = np.arange(5)\n",
    "a"
   ]
  },
  {
   "cell_type": "code",
   "execution_count": 133,
   "id": "c631ee73",
   "metadata": {},
   "outputs": [],
   "source": [
    "np.save('my_array', a)"
   ]
  },
  {
   "cell_type": "code",
   "execution_count": 136,
   "id": "1571e04c",
   "metadata": {},
   "outputs": [],
   "source": [
    "b = np.load('my_array.npy')"
   ]
  },
  {
   "cell_type": "markdown",
   "id": "2e640cc2",
   "metadata": {},
   "source": [
    "**np.savez**: To **save multiple arrays** in a **dictionary like** file and the **file extension** is **.npz**"
   ]
  },
  {
   "cell_type": "code",
   "execution_count": 137,
   "id": "ea7af63b",
   "metadata": {},
   "outputs": [],
   "source": [
    "np.savez('multiple_arrays', a1=a, a2=b)"
   ]
  },
  {
   "cell_type": "code",
   "execution_count": 140,
   "id": "2e11c593",
   "metadata": {},
   "outputs": [],
   "source": [
    "c = np.load('multiple_arrays.npz')"
   ]
  },
  {
   "cell_type": "code",
   "execution_count": 141,
   "id": "830675ac",
   "metadata": {},
   "outputs": [
    {
     "data": {
      "text/plain": [
       "array([0, 1, 2, 3, 4])"
      ]
     },
     "execution_count": 141,
     "metadata": {},
     "output_type": "execute_result"
    }
   ],
   "source": [
    "c['a1']"
   ]
  },
  {
   "cell_type": "code",
   "execution_count": null,
   "id": "9aedae83",
   "metadata": {},
   "outputs": [],
   "source": [
    "bp.na"
   ]
  }
 ],
 "metadata": {
  "kernelspec": {
   "display_name": "Python 3 (ipykernel)",
   "language": "python",
   "name": "python3"
  },
  "language_info": {
   "codemirror_mode": {
    "name": "ipython",
    "version": 3
   },
   "file_extension": ".py",
   "mimetype": "text/x-python",
   "name": "python",
   "nbconvert_exporter": "python",
   "pygments_lexer": "ipython3",
   "version": "3.9.7"
  }
 },
 "nbformat": 4,
 "nbformat_minor": 5
}
