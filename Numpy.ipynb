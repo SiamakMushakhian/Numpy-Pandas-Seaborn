{
 "cells": [
  {
   "cell_type": "markdown",
   "id": "cf9f2d1a",
   "metadata": {},
   "source": [
    "# Numpy\n",
    "\n",
    "**Numpy** is the shorting for **numerical python**."
   ]
  },
  {
   "cell_type": "markdown",
   "id": "7b6f4b07",
   "metadata": {},
   "source": [
    "## 1 What Is NumPy Arrays (Ndarrays)\n",
    "\n",
    "- **Numpy array** is an important data structure for data science.\n",
    "- **Array** is useful for **fast** and **efficient** numerical operations.\n",
    "- **Numpy array** is **faster** than **built-in python** data structures.\n",
    "- **Ndarray** is a common data structure for data analysis libraries and for machine learnings."
   ]
  },
  {
   "cell_type": "code",
   "execution_count": 5,
   "id": "c329e195",
   "metadata": {},
   "outputs": [
    {
     "name": "stdout",
     "output_type": "stream",
     "text": [
      "10.7 µs ± 81.3 ns per loop (mean ± std. dev. of 7 runs, 100000 loops each)\n"
     ]
    }
   ],
   "source": [
    "%timeit list(range(1000))"
   ]
  },
  {
   "cell_type": "code",
   "execution_count": 2,
   "id": "81af28d2",
   "metadata": {},
   "outputs": [],
   "source": [
    "import numpy as np"
   ]
  },
  {
   "cell_type": "code",
   "execution_count": 4,
   "id": "b5733ebb",
   "metadata": {},
   "outputs": [
    {
     "name": "stdout",
     "output_type": "stream",
     "text": [
      "1.25 µs ± 15.4 ns per loop (mean ± std. dev. of 7 runs, 1000000 loops each)\n"
     ]
    }
   ],
   "source": [
    "%timeit np.arange(1000)"
   ]
  },
  {
   "cell_type": "code",
   "execution_count": 5,
   "id": "a2f1f462",
   "metadata": {},
   "outputs": [
    {
     "data": {
      "text/plain": [
       "numpy.ndarray"
      ]
     },
     "execution_count": 5,
     "metadata": {},
     "output_type": "execute_result"
    }
   ],
   "source": [
    "type(np.arange(1000))"
   ]
  },
  {
   "cell_type": "markdown",
   "id": "baac78a7",
   "metadata": {},
   "source": [
    "## 2 Create NumPy Arrays (Ndarrays)"
   ]
  },
  {
   "cell_type": "code",
   "execution_count": 6,
   "id": "a37ae531",
   "metadata": {},
   "outputs": [
    {
     "data": {
      "text/plain": [
       "array([[-0.27494056, -0.5445613 ,  1.74272383],\n",
       "       [-0.80737291, -0.03150095, -1.64888179]])"
      ]
     },
     "execution_count": 6,
     "metadata": {},
     "output_type": "execute_result"
    }
   ],
   "source": [
    "a = np.random.randn(2, 3)\n",
    "a"
   ]
  },
  {
   "cell_type": "markdown",
   "id": "774911b9",
   "metadata": {},
   "source": [
    "**ndim**: To check the **dimension** of the **array**"
   ]
  },
  {
   "cell_type": "code",
   "execution_count": 10,
   "id": "f1fcb7f8",
   "metadata": {},
   "outputs": [
    {
     "data": {
      "text/plain": [
       "2"
      ]
     },
     "execution_count": 10,
     "metadata": {},
     "output_type": "execute_result"
    }
   ],
   "source": [
    "a.ndim"
   ]
  },
  {
   "cell_type": "markdown",
   "id": "eeced103",
   "metadata": {},
   "source": [
    "**shape**: To check the **shape** of the **array**"
   ]
  },
  {
   "cell_type": "code",
   "execution_count": 9,
   "id": "790c8a88",
   "metadata": {},
   "outputs": [
    {
     "data": {
      "text/plain": [
       "(2, 3)"
      ]
     },
     "execution_count": 9,
     "metadata": {},
     "output_type": "execute_result"
    }
   ],
   "source": [
    "a.shape"
   ]
  },
  {
   "cell_type": "markdown",
   "id": "a52aeffa",
   "metadata": {},
   "source": [
    "**dtype**: To check the **type** of the **array**"
   ]
  },
  {
   "cell_type": "code",
   "execution_count": 11,
   "id": "365de7b6",
   "metadata": {},
   "outputs": [
    {
     "data": {
      "text/plain": [
       "dtype('float64')"
      ]
     },
     "execution_count": 11,
     "metadata": {},
     "output_type": "execute_result"
    }
   ],
   "source": [
    "a.dtype"
   ]
  },
  {
   "cell_type": "markdown",
   "id": "4682e418",
   "metadata": {},
   "source": [
    "**array()**: To **convert** a **list** into **numpy array** "
   ]
  },
  {
   "cell_type": "code",
   "execution_count": 13,
   "id": "96ffd1c6",
   "metadata": {},
   "outputs": [],
   "source": [
    "list1 = [1, 2, 3, 4]"
   ]
  },
  {
   "cell_type": "code",
   "execution_count": 15,
   "id": "f47253e7",
   "metadata": {},
   "outputs": [
    {
     "data": {
      "text/plain": [
       "array([1, 2, 3, 4])"
      ]
     },
     "execution_count": 15,
     "metadata": {},
     "output_type": "execute_result"
    }
   ],
   "source": [
    "a = np.array(list1)\n",
    "a"
   ]
  },
  {
   "cell_type": "code",
   "execution_count": 16,
   "id": "72ad9d06",
   "metadata": {},
   "outputs": [
    {
     "data": {
      "text/plain": [
       "1"
      ]
     },
     "execution_count": 16,
     "metadata": {},
     "output_type": "execute_result"
    }
   ],
   "source": [
    "a.ndim"
   ]
  },
  {
   "cell_type": "code",
   "execution_count": 17,
   "id": "03a58ad3",
   "metadata": {},
   "outputs": [
    {
     "data": {
      "text/plain": [
       "(4,)"
      ]
     },
     "execution_count": 17,
     "metadata": {},
     "output_type": "execute_result"
    }
   ],
   "source": [
    "a.shape"
   ]
  },
  {
   "cell_type": "markdown",
   "id": "09e4f1cb",
   "metadata": {},
   "source": [
    "**zeros()**: To create a **numpy array** with certain size filled with **zeros**"
   ]
  },
  {
   "cell_type": "code",
   "execution_count": 20,
   "id": "9bd56a3b",
   "metadata": {},
   "outputs": [
    {
     "data": {
      "text/plain": [
       "array([0., 0., 0., 0., 0., 0., 0., 0., 0., 0.])"
      ]
     },
     "execution_count": 20,
     "metadata": {},
     "output_type": "execute_result"
    }
   ],
   "source": [
    "a = np.zeros(10)\n",
    "a"
   ]
  },
  {
   "cell_type": "markdown",
   "id": "7496d981",
   "metadata": {},
   "source": [
    "**ones()**: To create a **numpy array** with certain size filled with **ones**\n",
    "\n",
    "**Note**: To create a **multi-dimensional numpy array** filled with **zeros (ones)**, you need to pass the **dimension** as a **tuple**"
   ]
  },
  {
   "cell_type": "code",
   "execution_count": 21,
   "id": "2068caca",
   "metadata": {},
   "outputs": [
    {
     "data": {
      "text/plain": [
       "array([[1., 1., 1.],\n",
       "       [1., 1., 1.]])"
      ]
     },
     "execution_count": 21,
     "metadata": {},
     "output_type": "execute_result"
    }
   ],
   "source": [
    "a = np.ones((2, 3))\n",
    "a"
   ]
  }
 ],
 "metadata": {
  "kernelspec": {
   "display_name": "Python 3 (ipykernel)",
   "language": "python",
   "name": "python3"
  },
  "language_info": {
   "codemirror_mode": {
    "name": "ipython",
    "version": 3
   },
   "file_extension": ".py",
   "mimetype": "text/x-python",
   "name": "python",
   "nbconvert_exporter": "python",
   "pygments_lexer": "ipython3",
   "version": "3.9.7"
  }
 },
 "nbformat": 4,
 "nbformat_minor": 5
}
