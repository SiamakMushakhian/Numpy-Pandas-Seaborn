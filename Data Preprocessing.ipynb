{
 "cells": [
  {
   "attachments": {
    "image.png": {
     "image/png": "[encoded data removed]"
    }
   },
   "cell_type": "markdown",
   "id": "3058434a",
   "metadata": {},
   "source": [
    "# Why Preprocessing?\n",
    "\n",
    "The probability of **anomalous data** has **increased** in today’s data due to its **large size** and its origin for **heterogenous sources**. Considering the fact that **high-quality data** leads to **better models** and **predictions**, **data preprocessing** has become vital, and the **fundamental step** in the **data science/machine learning/AI pipeline**.\n",
    "\n",
    "![image.png](attachment:image.png)"
   ]
  },
  {
   "cell_type": "markdown",
   "id": "cdbb3604",
   "metadata": {},
   "source": [
    "# Data Quality\n",
    "\n",
    "While **gathering data**, you might come across **three main factors** that would contribute to the **quality of data**:"
   ]
  },
  {
   "cell_type": "markdown",
   "id": "16338f26",
   "metadata": {},
   "source": [
    "## Accuracy\n",
    "\n",
    "**Erroneous values** that **deviate** from the **expected**. The **causes** for **inaccurate data** can vary, but include:\n",
    "- **Human/computer errors** during **data entry** and **transmission**\n",
    "- **Users deliberately submitting incorrect values** (called **disguised missing data**)\n",
    "- **Incorrect formats** for **input fields**\n",
    "- **Duplication** of training examples"
   ]
  },
  {
   "cell_type": "markdown",
   "id": "d1e6b607",
   "metadata": {},
   "source": [
    "## Completeness\n",
    "\n",
    "**Lacking attribute/feature values** or **values of interest**. The data set might be **incomplete** due to:\n",
    "- **Unavailability** of data\n",
    "- **Deletion** of **inconsistent data**\n",
    "- **Deletion** of **data deemed irrelevant initially**"
   ]
  },
  {
   "cell_type": "markdown",
   "id": "77f6ec01",
   "metadata": {},
   "source": [
    "## Consistency\n",
    "\n",
    "**Aggregation** of data is **inconsistent**."
   ]
  },
  {
   "cell_type": "markdown",
   "id": "4d4422a3",
   "metadata": {},
   "source": [
    "## Other Factors\n",
    "\n",
    "Some other features that also affect the **data quality** include:\n",
    "- **Timeliness**: The data is incomplete until all relevant information is submitted after certain time periods\n",
    "- **Believability**: How much the data is trusted by the user \n",
    "- **Interpretability**: How easily the data is understood by all stakeholders"
   ]
  },
  {
   "attachments": {
    "image.png": {
     "image/png": "[encoded data removed]"
    }
   },
   "cell_type": "markdown",
   "id": "dc51e5dd",
   "metadata": {},
   "source": [
    "# Preprocessing\n",
    "\n",
    "To ensure **high-quality data**, it’s crucial to **preprocess** it. To make the process easier, **data preprocessing** is divided into **four stages**: **data cleaning**, **data integration**, **data reduction**, and **data transformation**.\n",
    "\n",
    "![image.png](attachment:image.png)"
   ]
  },
  {
   "cell_type": "markdown",
   "id": "51fb6d1f",
   "metadata": {},
   "source": [
    "## Data Cleaning\n",
    "\n",
    "**Data cleaning** refers to techniques to ‘clean’ data by **removing outliers**, **replacing missing values**, **smoothing noisy data**, and **correcting inconsistent data**. Many **techniques** are used to perform each of these **tasks**, where each technique is specific to a **user’s preference** or **problem set**. Below, I explain each task in terms of the techniques used to overcome it."
   ]
  },
  {
   "cell_type": "markdown",
   "id": "8c221a18",
   "metadata": {},
   "source": [
    "### Missing values\n",
    "\n",
    "You can use multiple approaches to deal with missing data. Let’s look at some of them.\n",
    "#### Removing the training example\n",
    "You can **ignore** the **training example** if the **output label** is **missing** (if it is a classification problem). This is **usually discouraged** as it leads to **loss of data** because you are removing the attribute values that can add value to data set as well.\n",
    "#### Filling in missing value manually\n",
    "This approach is **time consuming**, and is **not recommended** for **large data sets**.\n",
    "#### Using a standard value to replace the missing value\n",
    "The **missing value** can be **replaced** by a **global constant** such as ‘N/A’ or ‘Unknown.’ This is a **simple** approach, but **not foolproof**.\n",
    "#### Using central tendency (mean, median, mode) for attribute to replace the missing value\n",
    "Based on **data distribution**, **mean** (in the case of **normal distribution**) or **median** (for **non-normal distribution**) can be used to **fill** in for the **missing value**.\n",
    "#### Using central tendency (mean, median, mode) for attribute belonging to same class to replace the missing value\n",
    "This is the same as method 4, except that the measures of central tendency are specific to each class.\n",
    "#### Using the most probable value to fill in the missing value\n",
    "Using **algorithms** like regression and decision trees, the **missing values** can be **predicted** and **replaced**."
   ]
  },
  {
   "cell_type": "markdown",
   "id": "83361540",
   "metadata": {},
   "source": [
    "### Noisy data\n",
    "\n",
    "**Noise** is defined as a **random variance** in a **measured variable**. For **numeric values**, **box plots** and **scatter plots** can be used to identify **outliers**. To deal with these **anomalous values**, **data smoothing techniques** are applied, which are described below.\n",
    "\n",
    "#### Binning\n",
    "Using binning methods smooths sorted values by using the values around it. The sorted values are then divided into bins. There are various approaches to binning. Two of them are smoothing by bin means, where each bin is replaced by the mean of the bin’s values, and smoothing by bin medians, where each bin is replaced by the median of the bin’s values.\n",
    "#### Regression\n",
    "Linear regression and multiple linear regression can be used to smooth the data, where the values are conformed to a function.\n",
    "#### Outlier analysis\n",
    "Approaches such as clustering can be used to detect outliers and deal with them."
   ]
  },
  {
   "cell_type": "markdown",
   "id": "9e01dd27",
   "metadata": {},
   "source": [
    "## Data integration\n",
    "\n",
    "Because data is being **collected** from **multiple sources**, **data integration** has become a vital part of the process. This might lead to **redundant** and **inconsistent data**, which could result in **poor accuracy** and **speed** of a data model. To deal with these issues and maintain the **data integrity**, approaches such as **tuple duplication detection** and **data conflict detection** are sought after. The most common approaches to integrate data are explained below.\n",
    "\n",
    "### Data consolidation\n",
    "The **data** is physically brought together to **one data store**. This usually involves **Data Warehousing**.\n",
    "### Data propagation\n",
    "**Copying data** from **one location** to another using **applications** is called **data propagation**. Data propagation can be synchronous or asynchronous and is event-driven.\n",
    "### Data virtualization\n",
    "An **interface** is used to provide a **real-time** and **unified view** of data from **multiple sources**. The data can be viewed from a single point of access."
   ]
  },
  {
   "cell_type": "markdown",
   "id": "b7514414",
   "metadata": {},
   "source": [
    "## Data reduction\n",
    "\n",
    "The purpose of **data reduction** is to have a **condensed representation** of the **data set** that is **smaller** in **volume**, while **maintaining** the **integrity** of the **original data set**. This results in **efficient**, yet **similar**, **results**. A few methods to reduce the volume of data are:\n",
    "\n",
    "### Missing values ratio\n",
    "**Attributes** that have **more missing values** than a threshold are **removed**.\n",
    "### Low variance filter\n",
    "**Normalized attributes** that have **variance** (distribution) **less** than a threshold are also **removed** because **little changes** in data means **less information**.\n",
    "### High correlation filter\n",
    "**Normalized attributes** that have **correlation coefficients more** than a threshold are also **removed** because **similar trends** means **similar information** is carried. A **correlation coefficient** is usually calculated using **statistical methods** such as **Pearson’s chi-square value**.\n",
    "### Principal component analysis\n",
    "Principal component analysis, or **PCA**, is a **statistical method** that **reduces** the **numbers of attributes** by lumping **highly correlated attributes** together. With each iteration, the initial features are reduced to principal components, with greater variance than the original set on the condition that they are uncorrelated with the preceding components. However, this method only works for features with numerical values."
   ]
  },
  {
   "cell_type": "markdown",
   "id": "03df20fc",
   "metadata": {},
   "source": [
    "[What is the difference between feature selection and feature extraction?](https://elitedatascience.com/dimensionality-reduction-algorithms#:~:text=Feature%20Selection,-Feature%20selection%20is&text=The%20key%20difference%20between%20feature,extraction%20creates%20brand%20new%20ones.)"
   ]
  },
  {
   "cell_type": "markdown",
   "id": "b16b3d4c",
   "metadata": {},
   "source": [
    "## Data transformation\n",
    "\n",
    "The final step of data preprocessing is **transforming** the data into a **form appropriate** for **data modeling**. Strategies that enable data transformation include:\n",
    "\n",
    "### Smoothing:\n",
    "**Eliminating noise** in the data to see more **data patterns**.\n",
    "### Attribute/feature construction:\n",
    "**New attributes** are **constructed** from the given set of attributes.\n",
    "### Aggregation:\n",
    "**Summary** and **aggregation operations** are applied on the given set of attributes to come up with **new attributes**.\n",
    "### Normalization:\n",
    "The **data** in each attribute is **scaled** between a smaller range, for example, 0 to 1 or -1 to 1.\n",
    "### Discretization:\n",
    "**Raw values** of the **numeric attributes** are replaced by discrete or conceptual intervals, which can be further organized into higher-level intervals.\n",
    "### Concept hierarchy generation for nominal data:\n",
    "Values for **nominal data** are generalized to higher-order concepts."
   ]
  },
  {
   "cell_type": "markdown",
   "id": "83193b99",
   "metadata": {},
   "source": [
    "[Reference](https://developer.ibm.com/articles/data-preprocessing-in-detail/#:~:text=To%20make%20the%20process%20easier,data%20reduction%2C%20and%20data%20transformation.)"
   ]
  }
 ],
 "metadata": {
  "kernelspec": {
   "display_name": "Python 3 (ipykernel)",
   "language": "python",
   "name": "python3"
  },
  "language_info": {
   "codemirror_mode": {
    "name": "ipython",
    "version": 3
   },
   "file_extension": ".py",
   "mimetype": "text/x-python",
   "name": "python",
   "nbconvert_exporter": "python",
   "pygments_lexer": "ipython3",
   "version": "3.9.7"
  },
  "toc": {
   "base_numbering": 1,
   "nav_menu": {},
   "number_sections": true,
   "sideBar": true,
   "skip_h1_title": false,
   "title_cell": "Table of Contents",
   "title_sidebar": "Contents",
   "toc_cell": false,
   "toc_position": {},
   "toc_section_display": true,
   "toc_window_display": true
  }
 },
 "nbformat": 4,
 "nbformat_minor": 5
}
